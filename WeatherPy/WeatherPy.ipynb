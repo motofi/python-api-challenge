{
 "cells": [
  {
   "cell_type": "markdown",
   "metadata": {},
   "source": [
    "# WeatherPy\n",
    "----\n",
    "\n",
    "#### Note\n",
    "* Instructions have been included for each segment. You do not have to follow them exactly, but they are included to help you think through the steps."
   ]
  },
  {
   "cell_type": "code",
   "execution_count": 49,
   "metadata": {
    "scrolled": true
   },
   "outputs": [],
   "source": [
    "# Dependencies and Setup\n",
    "import matplotlib.pyplot as plt\n",
    "import pandas as pd\n",
    "import numpy as np\n",
    "import time\n",
    "from scipy.stats import linregress\n",
    "import json\n",
    "from pprint import pprint\n",
    "import requests\n",
    "from api_keys import api_key\n",
    "from citipy import citipy\n",
    "\n",
    "output_data_file = \"output_data/cities.csv\"\n",
    "\n",
    "# Range of latitudes and longitudes\n",
    "lat_range = (-90, 90)\n",
    "lng_range = (-180, 180)\n"
   ]
  },
  {
   "cell_type": "markdown",
   "metadata": {},
   "source": [
    "## Generate Cities List"
   ]
  },
  {
   "cell_type": "code",
   "execution_count": 50,
   "metadata": {},
   "outputs": [
    {
     "data": {
      "text/plain": [
       "617"
      ]
     },
     "execution_count": 50,
     "metadata": {},
     "output_type": "execute_result"
    }
   ],
   "source": [
    "# List to hold new data\n",
    "lat_lngs = []\n",
    "cities = []\n",
    "\n",
    "# Create a set of random lat and lng combinations\n",
    "lats = np.random.uniform(low=-90.000, high=90.000, size=1500)\n",
    "lngs = np.random.uniform(low=-180.000, high=180.000, size=1500)\n",
    "\n",
    "lat_lngs = zip(lats, lngs)\n",
    "\n",
    "# Identify nearest city for each lat, lng combination\n",
    "for lat_lng in lat_lngs:\n",
    "    city = citipy.nearest_city(lat_lng[0], lat_lng[1]).city_name\n",
    "    \n",
    "# If the city is unique, then add it to a our cities list\n",
    "    if city not in cities:\n",
    "        cities.append(city)\n",
    "\n",
    "# Print the city count to confirm sufficient count\n",
    "len(cities)\n"
   ]
  },
  {
   "cell_type": "markdown",
   "metadata": {},
   "source": [
    "### Perform API Calls\n",
    "* Perform a weather check on each city using a series of successive API calls.\n",
    "* Include a print log of each city as it'sbeing processed (with the city number and city name).\n"
   ]
  },
  {
   "cell_type": "code",
   "execution_count": 51,
   "metadata": {},
   "outputs": [],
   "source": [
    "url = \"https://api.openweathermap.org/data/2.5/weather?\"\n",
    "units = \"imperial\"\n",
    "\n",
    "query_url = url + \"appid=\" + api_key + \"&units=\" + units + \"&q=\""
   ]
  },
  {
   "cell_type": "code",
   "execution_count": 52,
   "metadata": {
    "scrolled": false
   },
   "outputs": [
    {
     "name": "stdout",
     "output_type": "stream",
     "text": [
      "Beginning Data Retrieval\n",
      "-----------------------------\n",
      "Processing Record 1 of Set 1 | rikitea\n",
      "Processing Record 2 of Set 1 | tuktoyaktuk\n",
      "Processing Record 3 of Set 1 | coro\n",
      "Processing Record 4 of Set 1 | xapuri\n",
      "Processing Record 5 of Set 1 | busselton\n",
      "Processing Record 6 of Set 1 | pajan\n",
      "Processing Record 7 of Set 1 | puerto ayora\n",
      "Processing Record 8 of Set 1 | hilo\n",
      "Processing Record 9 of Set 1 | asau\n",
      "Processing Record 10 of Set 1 | montepuez\n",
      "Processing Record 11 of Set 1 | provideniya\n",
      "Processing Record 12 of Set 1 | lata\n",
      "Processing Record 13 of Set 1 | taolanaro\n",
      "City not found. Skipping...\n",
      "Processing Record 14 of Set 1 | yunyang\n",
      "Processing Record 15 of Set 1 | bluff\n",
      "Processing Record 16 of Set 1 | mataura\n",
      "Processing Record 17 of Set 1 | hobart\n",
      "Processing Record 18 of Set 1 | cherskiy\n",
      "Processing Record 19 of Set 1 | broome\n",
      "Processing Record 20 of Set 1 | tabas\n",
      "Processing Record 21 of Set 1 | qaanaaq\n",
      "Processing Record 22 of Set 1 | thabazimbi\n",
      "Processing Record 23 of Set 1 | jalu\n",
      "Processing Record 24 of Set 1 | upernavik\n",
      "Processing Record 25 of Set 1 | albany\n",
      "Processing Record 26 of Set 1 | the valley\n",
      "Processing Record 27 of Set 1 | bethel\n",
      "Processing Record 28 of Set 1 | thompson\n",
      "Processing Record 29 of Set 1 | esperance\n",
      "Processing Record 30 of Set 1 | berlevag\n",
      "Processing Record 31 of Set 1 | mehamn\n",
      "Processing Record 32 of Set 1 | tasiilaq\n",
      "Processing Record 33 of Set 1 | kapaa\n",
      "Processing Record 34 of Set 1 | rio grande\n",
      "Processing Record 35 of Set 1 | grand gaube\n",
      "Processing Record 36 of Set 1 | butaritari\n",
      "Processing Record 37 of Set 1 | saint-joseph\n",
      "Processing Record 38 of Set 1 | outlook\n",
      "Processing Record 39 of Set 1 | koshki\n",
      "Processing Record 40 of Set 1 | hals\n",
      "Processing Record 41 of Set 1 | lebu\n",
      "Processing Record 42 of Set 1 | amalapuram\n",
      "Processing Record 43 of Set 1 | tshikapa\n",
      "Processing Record 44 of Set 1 | carnarvon\n",
      "Processing Record 45 of Set 1 | rawson\n",
      "Processing Record 46 of Set 1 | vestmannaeyjar\n",
      "Processing Record 47 of Set 1 | alihe\n",
      "Processing Record 48 of Set 1 | paita\n",
      "Processing Record 49 of Set 1 | uvalde\n",
      "Processing Record 1 of Set 2 | ayr\n",
      "Processing Record 2 of Set 2 | naze\n",
      "Processing Record 3 of Set 2 | mount gambier\n",
      "Processing Record 4 of Set 2 | sinjar\n",
      "Processing Record 5 of Set 2 | kiunga\n",
      "Processing Record 6 of Set 2 | san cristobal\n",
      "Processing Record 7 of Set 2 | barrow\n",
      "Processing Record 8 of Set 2 | nikolskoye\n",
      "Processing Record 9 of Set 2 | longyearbyen\n",
      "Processing Record 10 of Set 2 | ponta do sol\n",
      "Processing Record 11 of Set 2 | punta arenas\n",
      "Processing Record 12 of Set 2 | kavaratti\n",
      "Processing Record 13 of Set 2 | bengkulu\n",
      "Processing Record 14 of Set 2 | palabuhanratu\n",
      "City not found. Skipping...\n",
      "Processing Record 15 of Set 2 | hermanus\n",
      "Processing Record 16 of Set 2 | ternate\n",
      "Processing Record 17 of Set 2 | east london\n",
      "Processing Record 18 of Set 2 | lufilufi\n",
      "Processing Record 19 of Set 2 | barentsburg\n",
      "City not found. Skipping...\n",
      "Processing Record 20 of Set 2 | jamestown\n",
      "Processing Record 21 of Set 2 | hasaki\n",
      "Processing Record 22 of Set 2 | khatanga\n",
      "Processing Record 23 of Set 2 | labuhan\n",
      "Processing Record 24 of Set 2 | atuona\n",
      "Processing Record 25 of Set 2 | airai\n",
      "Processing Record 26 of Set 2 | talara\n",
      "Processing Record 27 of Set 2 | karratha\n",
      "Processing Record 28 of Set 2 | kavieng\n",
      "Processing Record 29 of Set 2 | sao jose da coroa grande\n",
      "Processing Record 30 of Set 2 | henties bay\n",
      "Processing Record 31 of Set 2 | ipixuna\n",
      "Processing Record 32 of Set 2 | chachapoyas\n",
      "Processing Record 33 of Set 2 | kismayo\n",
      "Processing Record 34 of Set 2 | saint george\n",
      "Processing Record 35 of Set 2 | severo-kurilsk\n",
      "Processing Record 36 of Set 2 | chuy\n",
      "Processing Record 37 of Set 2 | sentyabrskiy\n",
      "City not found. Skipping...\n",
      "Processing Record 38 of Set 2 | ushuaia\n",
      "Processing Record 39 of Set 2 | faanui\n",
      "Processing Record 40 of Set 2 | illoqqortoormiut\n",
      "City not found. Skipping...\n",
      "Processing Record 41 of Set 2 | launceston\n",
      "Processing Record 42 of Set 2 | vaini\n",
      "Processing Record 43 of Set 2 | port hardy\n",
      "Processing Record 44 of Set 2 | cape town\n",
      "Processing Record 45 of Set 2 | dikson\n",
      "Processing Record 46 of Set 2 | arraial do cabo\n",
      "Processing Record 47 of Set 2 | pisco\n",
      "Processing Record 48 of Set 2 | ormara\n",
      "Processing Record 49 of Set 2 | vega de alatorre\n",
      "Processing Record 1 of Set 3 | tevaitoa\n",
      "Processing Record 2 of Set 3 | kanniyakumari\n",
      "Processing Record 3 of Set 3 | charters towers\n",
      "Processing Record 4 of Set 3 | ballina\n",
      "Processing Record 5 of Set 3 | olinda\n",
      "Processing Record 6 of Set 3 | candido mendes\n",
      "Processing Record 7 of Set 3 | mutsamudu\n",
      "City not found. Skipping...\n",
      "Processing Record 8 of Set 3 | emerald\n",
      "Processing Record 9 of Set 3 | avarua\n",
      "Processing Record 10 of Set 3 | ola\n",
      "Processing Record 11 of Set 3 | komsomolskiy\n",
      "Processing Record 12 of Set 3 | springbok\n",
      "Processing Record 13 of Set 3 | pemangkat\n",
      "Processing Record 14 of Set 3 | iranshahr\n",
      "Processing Record 15 of Set 3 | bathsheba\n",
      "Processing Record 16 of Set 3 | aklavik\n",
      "Processing Record 17 of Set 3 | luganville\n",
      "Processing Record 18 of Set 3 | iwanai\n",
      "Processing Record 19 of Set 3 | bogovarovo\n",
      "Processing Record 20 of Set 3 | pevek\n",
      "Processing Record 21 of Set 3 | kalga\n",
      "Processing Record 22 of Set 3 | bilibino\n",
      "Processing Record 23 of Set 3 | tabory\n",
      "Processing Record 24 of Set 3 | oleggio\n",
      "Processing Record 25 of Set 3 | haines junction\n",
      "Processing Record 26 of Set 3 | alyangula\n",
      "Processing Record 27 of Set 3 | narsaq\n",
      "Processing Record 28 of Set 3 | harnoli\n",
      "Processing Record 29 of Set 3 | amderma\n",
      "City not found. Skipping...\n",
      "Processing Record 30 of Set 3 | laureles\n",
      "Processing Record 31 of Set 3 | new norfolk\n",
      "Processing Record 32 of Set 3 | bredasdorp\n",
      "Processing Record 33 of Set 3 | fukuma\n",
      "Processing Record 34 of Set 3 | pangkalanbuun\n",
      "Processing Record 35 of Set 3 | srivardhan\n",
      "Processing Record 36 of Set 3 | koslan\n",
      "Processing Record 37 of Set 3 | sailana\n",
      "Processing Record 38 of Set 3 | gewane\n",
      "Processing Record 39 of Set 3 | metapan\n",
      "Processing Record 40 of Set 3 | umm lajj\n",
      "Processing Record 41 of Set 3 | port macquarie\n",
      "Processing Record 42 of Set 3 | shanghai\n",
      "Processing Record 43 of Set 3 | alofi\n",
      "Processing Record 44 of Set 3 | saskylakh\n",
      "Processing Record 45 of Set 3 | castro\n",
      "Processing Record 46 of Set 3 | iracoubo\n",
      "Processing Record 47 of Set 3 | kruisfontein\n",
      "Processing Record 48 of Set 3 | hovd\n",
      "Processing Record 49 of Set 3 | mar del plata\n",
      "Processing Record 1 of Set 4 | ribeira grande\n",
      "Processing Record 2 of Set 4 | les cayes\n",
      "Processing Record 3 of Set 4 | beckley\n",
      "Processing Record 4 of Set 4 | svetlogorsk\n",
      "Processing Record 5 of Set 4 | bonthe\n",
      "Processing Record 6 of Set 4 | maniitsoq\n",
      "Processing Record 7 of Set 4 | ancud\n",
      "Processing Record 8 of Set 4 | inuvik\n",
      "Processing Record 9 of Set 4 | portland\n",
      "Processing Record 10 of Set 4 | rio gallegos\n",
      "Processing Record 11 of Set 4 | neuquen\n",
      "Processing Record 12 of Set 4 | kempele\n",
      "Processing Record 13 of Set 4 | daurala\n",
      "Processing Record 14 of Set 4 | half moon bay\n",
      "Processing Record 15 of Set 4 | yellowknife\n",
      "Processing Record 16 of Set 4 | bolungarvik\n",
      "City not found. Skipping...\n",
      "Processing Record 17 of Set 4 | souillac\n",
      "Processing Record 18 of Set 4 | praia\n",
      "Processing Record 19 of Set 4 | bargal\n",
      "City not found. Skipping...\n",
      "Processing Record 20 of Set 4 | dinsor\n",
      "City not found. Skipping...\n",
      "Processing Record 21 of Set 4 | leningradskiy\n",
      "Processing Record 22 of Set 4 | pacific grove\n",
      "Processing Record 23 of Set 4 | tilichiki\n",
      "Processing Record 24 of Set 4 | chokurdakh\n",
      "Processing Record 25 of Set 4 | cabo san lucas\n",
      "Processing Record 26 of Set 4 | drayton valley\n",
      "Processing Record 27 of Set 4 | colwyn bay\n",
      "Processing Record 28 of Set 4 | olafsvik\n",
      "Processing Record 29 of Set 4 | muli\n",
      "Processing Record 30 of Set 4 | zhuanghe\n",
      "Processing Record 31 of Set 4 | huarmey\n",
      "Processing Record 32 of Set 4 | sao miguel do araguaia\n",
      "Processing Record 33 of Set 4 | shubarkuduk\n",
      "Processing Record 34 of Set 4 | port hedland\n",
      "Processing Record 35 of Set 4 | mayumba\n",
      "Processing Record 36 of Set 4 | paragominas\n",
      "Processing Record 37 of Set 4 | tiksi\n",
      "Processing Record 38 of Set 4 | kachiry\n",
      "Processing Record 39 of Set 4 | port keats\n",
      "Processing Record 40 of Set 4 | tsihombe\n",
      "City not found. Skipping...\n",
      "Processing Record 41 of Set 4 | jiroft\n",
      "City not found. Skipping...\n",
      "Processing Record 42 of Set 4 | mocambique\n",
      "City not found. Skipping...\n"
     ]
    },
    {
     "name": "stdout",
     "output_type": "stream",
     "text": [
      "Processing Record 43 of Set 4 | port lincoln\n",
      "Processing Record 44 of Set 4 | chapeco\n",
      "Processing Record 45 of Set 4 | athabasca\n",
      "Processing Record 46 of Set 4 | nanortalik\n",
      "Processing Record 47 of Set 4 | ahipara\n",
      "Processing Record 48 of Set 4 | sioux lookout\n",
      "Processing Record 49 of Set 4 | sept-iles\n",
      "Processing Record 1 of Set 5 | nantucket\n",
      "Processing Record 2 of Set 5 | whitehorse\n",
      "Processing Record 3 of Set 5 | talnakh\n",
      "Processing Record 4 of Set 5 | tripoli\n",
      "Processing Record 5 of Set 5 | imeni poliny osipenko\n",
      "Processing Record 6 of Set 5 | podgornoye\n",
      "Processing Record 7 of Set 5 | hihifo\n",
      "City not found. Skipping...\n",
      "Processing Record 8 of Set 5 | nemuro\n",
      "Processing Record 9 of Set 5 | poum\n",
      "Processing Record 10 of Set 5 | belushya guba\n",
      "City not found. Skipping...\n",
      "Processing Record 11 of Set 5 | babanusah\n",
      "City not found. Skipping...\n",
      "Processing Record 12 of Set 5 | ondorhaan\n",
      "City not found. Skipping...\n",
      "Processing Record 13 of Set 5 | lac-megantic\n",
      "Processing Record 14 of Set 5 | nome\n",
      "Processing Record 15 of Set 5 | bogatyye saby\n",
      "Processing Record 16 of Set 5 | oxford\n",
      "Processing Record 17 of Set 5 | surt\n",
      "Processing Record 18 of Set 5 | araguatins\n",
      "City not found. Skipping...\n",
      "Processing Record 19 of Set 5 | kaohsiung\n",
      "Processing Record 20 of Set 5 | grindavik\n",
      "Processing Record 21 of Set 5 | ozgon\n",
      "City not found. Skipping...\n",
      "Processing Record 22 of Set 5 | norman wells\n",
      "Processing Record 23 of Set 5 | kodiak\n",
      "Processing Record 24 of Set 5 | attawapiskat\n",
      "City not found. Skipping...\n",
      "Processing Record 25 of Set 5 | necochea\n",
      "Processing Record 26 of Set 5 | north bend\n",
      "Processing Record 27 of Set 5 | grand river south east\n",
      "City not found. Skipping...\n",
      "Processing Record 28 of Set 5 | motril\n",
      "Processing Record 29 of Set 5 | hamilton\n",
      "Processing Record 30 of Set 5 | sola\n",
      "Processing Record 31 of Set 5 | sapulpa\n",
      "Processing Record 32 of Set 5 | bambous virieux\n",
      "Processing Record 33 of Set 5 | brae\n",
      "Processing Record 34 of Set 5 | warman\n",
      "Processing Record 35 of Set 5 | georgetown\n",
      "Processing Record 36 of Set 5 | kapit\n",
      "Processing Record 37 of Set 5 | wodonga\n",
      "Processing Record 38 of Set 5 | clyde river\n",
      "Processing Record 39 of Set 5 | ostrovnoy\n",
      "Processing Record 40 of Set 5 | houma\n",
      "Processing Record 41 of Set 5 | beaumont\n",
      "Processing Record 42 of Set 5 | bridlington\n",
      "Processing Record 43 of Set 5 | melfi\n",
      "Processing Record 44 of Set 5 | biloela\n",
      "Processing Record 45 of Set 5 | birin\n",
      "Processing Record 46 of Set 5 | kamenskoye\n",
      "City not found. Skipping...\n",
      "Processing Record 47 of Set 5 | kahului\n",
      "Processing Record 48 of Set 5 | lasa\n",
      "Processing Record 49 of Set 5 | muzhi\n",
      "Processing Record 1 of Set 6 | takhli\n",
      "Processing Record 2 of Set 6 | ruatoria\n",
      "City not found. Skipping...\n",
      "Processing Record 3 of Set 6 | sabaoani\n",
      "Processing Record 4 of Set 6 | kamenka\n",
      "Processing Record 5 of Set 6 | soluno-dmitriyevskoye\n",
      "Processing Record 6 of Set 6 | kargopol\n",
      "Processing Record 7 of Set 6 | kaitangata\n",
      "Processing Record 8 of Set 6 | loanda\n",
      "Processing Record 9 of Set 6 | saint anthony\n",
      "Processing Record 10 of Set 6 | los llanos de aridane\n",
      "Processing Record 11 of Set 6 | gat\n",
      "Processing Record 12 of Set 6 | tawau\n",
      "Processing Record 13 of Set 6 | klaksvik\n",
      "Processing Record 14 of Set 6 | melfort\n",
      "Processing Record 15 of Set 6 | port elizabeth\n",
      "Processing Record 16 of Set 6 | ujkigyos\n",
      "Processing Record 17 of Set 6 | caravelas\n",
      "Processing Record 18 of Set 6 | fairbanks\n",
      "Processing Record 19 of Set 6 | pangnirtung\n",
      "Processing Record 20 of Set 6 | meulaboh\n",
      "Processing Record 21 of Set 6 | mapiri\n",
      "Processing Record 22 of Set 6 | acapulco\n",
      "Processing Record 23 of Set 6 | kinablangan\n",
      "Processing Record 24 of Set 6 | uthal\n",
      "Processing Record 25 of Set 6 | mollendo\n",
      "Processing Record 26 of Set 6 | lavrentiya\n",
      "Processing Record 27 of Set 6 | margate\n",
      "Processing Record 28 of Set 6 | tumannyy\n",
      "City not found. Skipping...\n",
      "Processing Record 29 of Set 6 | sitka\n",
      "Processing Record 30 of Set 6 | andrews\n",
      "Processing Record 31 of Set 6 | puerto madryn\n",
      "Processing Record 32 of Set 6 | galgani\n",
      "City not found. Skipping...\n",
      "Processing Record 33 of Set 6 | hithadhoo\n",
      "Processing Record 34 of Set 6 | shingu\n",
      "Processing Record 35 of Set 6 | monrovia\n",
      "Processing Record 36 of Set 6 | aykhal\n",
      "Processing Record 37 of Set 6 | galveston\n",
      "Processing Record 38 of Set 6 | solovetskiy\n",
      "City not found. Skipping...\n",
      "Processing Record 39 of Set 6 | camapua\n",
      "Processing Record 40 of Set 6 | la tuque\n",
      "Processing Record 41 of Set 6 | skelleftea\n",
      "Processing Record 42 of Set 6 | yerbogachen\n",
      "Processing Record 43 of Set 6 | zyryanka\n",
      "Processing Record 44 of Set 6 | ravar\n",
      "Processing Record 45 of Set 6 | longhua\n",
      "Processing Record 46 of Set 6 | port alfred\n",
      "Processing Record 47 of Set 6 | tahta\n",
      "Processing Record 48 of Set 6 | verkh-usugli\n",
      "Processing Record 49 of Set 6 | san patricio\n",
      "Processing Record 1 of Set 7 | kegayli\n",
      "City not found. Skipping...\n",
      "Processing Record 2 of Set 7 | samarai\n",
      "Processing Record 3 of Set 7 | sao filipe\n",
      "Processing Record 4 of Set 7 | cortes\n",
      "Processing Record 5 of Set 7 | saint-philippe\n",
      "Processing Record 6 of Set 7 | vangaindrano\n",
      "Processing Record 7 of Set 7 | vallenar\n",
      "Processing Record 8 of Set 7 | lompoc\n",
      "Processing Record 9 of Set 7 | cukai\n",
      "Processing Record 10 of Set 7 | kropotkin\n",
      "Processing Record 11 of Set 7 | atherton\n",
      "Processing Record 12 of Set 7 | bosaso\n",
      "Processing Record 13 of Set 7 | kutum\n",
      "Processing Record 14 of Set 7 | floro\n",
      "Processing Record 15 of Set 7 | udachnyy\n",
      "Processing Record 16 of Set 7 | dabat\n",
      "Processing Record 17 of Set 7 | tokmak\n",
      "Processing Record 18 of Set 7 | mayo\n",
      "Processing Record 19 of Set 7 | chicama\n",
      "Processing Record 20 of Set 7 | tuatapere\n",
      "Processing Record 21 of Set 7 | saldanha\n",
      "Processing Record 22 of Set 7 | kailua\n",
      "Processing Record 23 of Set 7 | cartagena del chaira\n",
      "Processing Record 24 of Set 7 | grande-riviere\n",
      "City not found. Skipping...\n",
      "Processing Record 25 of Set 7 | murray bridge\n",
      "Processing Record 26 of Set 7 | andenes\n",
      "Processing Record 27 of Set 7 | college\n",
      "Processing Record 28 of Set 7 | kraste\n",
      "City not found. Skipping...\n",
      "Processing Record 29 of Set 7 | bubaque\n",
      "Processing Record 30 of Set 7 | muros\n",
      "Processing Record 31 of Set 7 | samusu\n",
      "City not found. Skipping...\n",
      "Processing Record 32 of Set 7 | guerrero negro\n",
      "Processing Record 33 of Set 7 | berdigestyakh\n",
      "Processing Record 34 of Set 7 | baykit\n",
      "Processing Record 35 of Set 7 | moussoro\n",
      "Processing Record 36 of Set 7 | zhanaozen\n",
      "Processing Record 37 of Set 7 | lulea\n",
      "Processing Record 38 of Set 7 | aksha\n",
      "Processing Record 39 of Set 7 | faya\n",
      "Processing Record 40 of Set 7 | honiara\n",
      "Processing Record 41 of Set 7 | oktyabrskiy\n",
      "Processing Record 42 of Set 7 | bandarbeyla\n",
      "Processing Record 43 of Set 7 | erenhot\n",
      "Processing Record 44 of Set 7 | wahran\n",
      "City not found. Skipping...\n",
      "Processing Record 45 of Set 7 | umzimvubu\n",
      "City not found. Skipping...\n",
      "Processing Record 46 of Set 7 | beberibe\n",
      "Processing Record 47 of Set 7 | areosa\n",
      "Processing Record 48 of Set 7 | charleston\n",
      "Processing Record 49 of Set 7 | ndele\n",
      "Processing Record 1 of Set 8 | yomitan\n",
      "City not found. Skipping...\n",
      "Processing Record 2 of Set 8 | upington\n",
      "Processing Record 3 of Set 8 | sur\n",
      "Processing Record 4 of Set 8 | choya\n",
      "Processing Record 5 of Set 8 | mount isa\n",
      "Processing Record 6 of Set 8 | karabash\n",
      "Processing Record 7 of Set 8 | goundam\n",
      "Processing Record 8 of Set 8 | quatre cocos\n",
      "Processing Record 9 of Set 8 | tazovskiy\n",
      "Processing Record 10 of Set 8 | raga\n",
      "Processing Record 11 of Set 8 | buin\n",
      "Processing Record 12 of Set 8 | arman\n",
      "Processing Record 13 of Set 8 | san carlos de bariloche\n",
      "Processing Record 14 of Set 8 | fujinomiya\n",
      "Processing Record 15 of Set 8 | coihaique\n",
      "Processing Record 16 of Set 8 | ranot\n",
      "Processing Record 17 of Set 8 | torbay\n",
      "Processing Record 18 of Set 8 | jiaonan\n",
      "Processing Record 19 of Set 8 | pingzhuang\n",
      "Processing Record 20 of Set 8 | tawkar\n",
      "City not found. Skipping...\n",
      "Processing Record 21 of Set 8 | ansalta\n",
      "Processing Record 22 of Set 8 | easton\n",
      "Processing Record 23 of Set 8 | salalah\n",
      "Processing Record 24 of Set 8 | nizhneyansk\n",
      "City not found. Skipping...\n",
      "Processing Record 25 of Set 8 | miranda\n",
      "Processing Record 26 of Set 8 | yelnya\n",
      "Processing Record 27 of Set 8 | temanggung\n",
      "Processing Record 28 of Set 8 | muravlenko\n",
      "Processing Record 29 of Set 8 | vigrestad\n",
      "Processing Record 30 of Set 8 | evensk\n",
      "Processing Record 31 of Set 8 | marcona\n",
      "City not found. Skipping...\n"
     ]
    },
    {
     "name": "stdout",
     "output_type": "stream",
     "text": [
      "Processing Record 32 of Set 8 | sabzevar\n",
      "Processing Record 33 of Set 8 | pedra\n",
      "Processing Record 34 of Set 8 | conceicao da barra\n",
      "Processing Record 35 of Set 8 | okhotsk\n",
      "Processing Record 36 of Set 8 | petropavlovsk-kamchatskiy\n",
      "Processing Record 37 of Set 8 | santa cruz de la palma\n",
      "Processing Record 38 of Set 8 | shemursha\n",
      "Processing Record 39 of Set 8 | bonavista\n",
      "Processing Record 40 of Set 8 | russell\n",
      "Processing Record 41 of Set 8 | yialos\n",
      "City not found. Skipping...\n",
      "Processing Record 42 of Set 8 | balimo\n",
      "City not found. Skipping...\n",
      "Processing Record 43 of Set 8 | belyy yar\n",
      "Processing Record 44 of Set 8 | menongue\n",
      "Processing Record 45 of Set 8 | el limon\n",
      "Processing Record 46 of Set 8 | namangan\n",
      "Processing Record 47 of Set 8 | ariquemes\n",
      "Processing Record 48 of Set 8 | khonuu\n",
      "City not found. Skipping...\n",
      "Processing Record 49 of Set 8 | alta floresta\n",
      "Processing Record 1 of Set 9 | dunedin\n",
      "Processing Record 2 of Set 9 | brokopondo\n",
      "Processing Record 3 of Set 9 | luderitz\n",
      "Processing Record 4 of Set 9 | codrington\n",
      "Processing Record 5 of Set 9 | kyshtym\n",
      "Processing Record 6 of Set 9 | iqaluit\n",
      "Processing Record 7 of Set 9 | vidim\n",
      "Processing Record 8 of Set 9 | temax\n",
      "Processing Record 9 of Set 9 | namatanai\n",
      "Processing Record 10 of Set 9 | port augusta\n",
      "Processing Record 11 of Set 9 | sakakah\n",
      "Processing Record 12 of Set 9 | vao\n",
      "Processing Record 13 of Set 9 | beringovskiy\n",
      "Processing Record 14 of Set 9 | ust-maya\n",
      "Processing Record 15 of Set 9 | changji\n",
      "Processing Record 16 of Set 9 | bloemfontein\n",
      "Processing Record 17 of Set 9 | sault sainte marie\n",
      "Processing Record 18 of Set 9 | wadi maliz\n",
      "Processing Record 19 of Set 9 | kuah\n",
      "Processing Record 20 of Set 9 | fuxin\n",
      "Processing Record 21 of Set 9 | sorvag\n",
      "City not found. Skipping...\n",
      "Processing Record 22 of Set 9 | thinadhoo\n",
      "Processing Record 23 of Set 9 | varzea da palma\n",
      "Processing Record 24 of Set 9 | kimbe\n",
      "Processing Record 25 of Set 9 | sarangani\n",
      "Processing Record 26 of Set 9 | kwinana\n",
      "Processing Record 27 of Set 9 | la maddalena\n",
      "Processing Record 28 of Set 9 | comodoro rivadavia\n",
      "Processing Record 29 of Set 9 | martapura\n",
      "Processing Record 30 of Set 9 | mabaruma\n",
      "Processing Record 31 of Set 9 | paamiut\n",
      "Processing Record 32 of Set 9 | lagoa\n",
      "Processing Record 33 of Set 9 | vila velha\n",
      "Processing Record 34 of Set 9 | erzin\n",
      "Processing Record 35 of Set 9 | shumerlya\n",
      "Processing Record 36 of Set 9 | mariental\n",
      "Processing Record 37 of Set 9 | guatire\n",
      "Processing Record 38 of Set 9 | olot\n",
      "Processing Record 39 of Set 9 | marsh harbour\n",
      "Processing Record 40 of Set 9 | mocuba\n",
      "Processing Record 41 of Set 9 | huancavelica\n",
      "Processing Record 42 of Set 9 | vinh\n",
      "Processing Record 43 of Set 9 | yulara\n",
      "Processing Record 44 of Set 9 | mahebourg\n",
      "Processing Record 45 of Set 9 | saleaula\n",
      "City not found. Skipping...\n",
      "Processing Record 46 of Set 9 | saint-augustin\n",
      "Processing Record 47 of Set 9 | rivadavia\n",
      "Processing Record 48 of Set 9 | zamora\n",
      "Processing Record 49 of Set 9 | fortuna\n",
      "Processing Record 1 of Set 10 | hualmay\n",
      "Processing Record 2 of Set 10 | banepa\n",
      "Processing Record 3 of Set 10 | siloam springs\n",
      "Processing Record 4 of Set 10 | severnyy\n",
      "Processing Record 5 of Set 10 | vila franca do campo\n",
      "Processing Record 6 of Set 10 | galle\n",
      "Processing Record 7 of Set 10 | isangel\n",
      "Processing Record 8 of Set 10 | ixtapa\n",
      "Processing Record 9 of Set 10 | hambantota\n",
      "Processing Record 10 of Set 10 | malakal\n",
      "Processing Record 11 of Set 10 | kungurtug\n",
      "Processing Record 12 of Set 10 | roma\n",
      "Processing Record 13 of Set 10 | zeya\n",
      "Processing Record 14 of Set 10 | kyra\n",
      "Processing Record 15 of Set 10 | phan thiet\n",
      "Processing Record 16 of Set 10 | ulaanbaatar\n",
      "Processing Record 17 of Set 10 | linxia\n",
      "Processing Record 18 of Set 10 | ust-omchug\n",
      "Processing Record 19 of Set 10 | bomi\n",
      "Processing Record 20 of Set 10 | turayf\n",
      "Processing Record 21 of Set 10 | tahe\n",
      "Processing Record 22 of Set 10 | memari\n",
      "Processing Record 23 of Set 10 | nuuk\n",
      "Processing Record 24 of Set 10 | payson\n",
      "Processing Record 25 of Set 10 | laguna\n",
      "Processing Record 26 of Set 10 | krasnyy oktyabr\n",
      "Processing Record 27 of Set 10 | boshnyakovo\n",
      "Processing Record 28 of Set 10 | mhlume\n",
      "Processing Record 29 of Set 10 | ardakan\n",
      "Processing Record 30 of Set 10 | macamic\n",
      "Processing Record 31 of Set 10 | tres lagoas\n",
      "Processing Record 32 of Set 10 | sistranda\n",
      "Processing Record 33 of Set 10 | ksenyevka\n",
      "City not found. Skipping...\n",
      "Processing Record 34 of Set 10 | gorontalo\n",
      "Processing Record 35 of Set 10 | qasigiannguit\n",
      "Processing Record 36 of Set 10 | dois riachos\n",
      "Processing Record 37 of Set 10 | marystown\n",
      "Processing Record 38 of Set 10 | oranjemund\n",
      "Processing Record 39 of Set 10 | constitucion\n",
      "Processing Record 40 of Set 10 | mogadishu\n",
      "Processing Record 41 of Set 10 | itaituba\n",
      "Processing Record 42 of Set 10 | mouzakion\n",
      "City not found. Skipping...\n",
      "Processing Record 43 of Set 10 | villefontaine\n",
      "Processing Record 44 of Set 10 | shubarshi\n",
      "Processing Record 45 of Set 10 | pronsk\n",
      "Processing Record 46 of Set 10 | victoria\n",
      "Processing Record 47 of Set 10 | flinders\n",
      "Processing Record 48 of Set 10 | fort nelson\n",
      "Processing Record 49 of Set 10 | khor\n",
      "Processing Record 1 of Set 11 | rochegda\n",
      "Processing Record 2 of Set 11 | anchorage\n",
      "Processing Record 3 of Set 11 | meyungs\n",
      "City not found. Skipping...\n",
      "Processing Record 4 of Set 11 | kirovskiy\n",
      "Processing Record 5 of Set 11 | bar harbor\n",
      "Processing Record 6 of Set 11 | halalo\n",
      "City not found. Skipping...\n",
      "Processing Record 7 of Set 11 | yuanping\n",
      "Processing Record 8 of Set 11 | arlit\n",
      "Processing Record 9 of Set 11 | negombo\n",
      "Processing Record 10 of Set 11 | mys shmidta\n",
      "City not found. Skipping...\n",
      "Processing Record 11 of Set 11 | kloulklubed\n",
      "Processing Record 12 of Set 11 | sao joao da barra\n",
      "Processing Record 13 of Set 11 | skibbereen\n",
      "Processing Record 14 of Set 11 | arica\n",
      "Processing Record 15 of Set 11 | hobyo\n",
      "Processing Record 16 of Set 11 | inhambane\n",
      "Processing Record 17 of Set 11 | la orilla\n",
      "Processing Record 18 of Set 11 | kikwit\n",
      "Processing Record 19 of Set 11 | padang\n",
      "Processing Record 20 of Set 11 | meadow lake\n",
      "Processing Record 21 of Set 11 | flic en flac\n",
      "Processing Record 22 of Set 11 | hearst\n",
      "Processing Record 23 of Set 11 | salto\n",
      "Processing Record 24 of Set 11 | christchurch\n",
      "Processing Record 25 of Set 11 | jaisinghnagar\n",
      "Processing Record 26 of Set 11 | aquiraz\n",
      "Processing Record 27 of Set 11 | lambarene\n",
      "Processing Record 28 of Set 11 | aasiaat\n",
      "Processing Record 29 of Set 11 | anadyr\n",
      "Processing Record 30 of Set 11 | taoudenni\n",
      "Processing Record 31 of Set 11 | adre\n",
      "Processing Record 32 of Set 11 | lolua\n",
      "City not found. Skipping...\n",
      "Processing Record 33 of Set 11 | takoradi\n",
      "Processing Record 34 of Set 11 | geraldton\n",
      "Processing Record 35 of Set 11 | palmer\n",
      "Processing Record 36 of Set 11 | suileng\n",
      "Processing Record 37 of Set 11 | tirat karmel\n",
      "Processing Record 38 of Set 11 | poronaysk\n",
      "Processing Record 39 of Set 11 | ngukurr\n",
      "City not found. Skipping...\n",
      "Processing Record 40 of Set 11 | richards bay\n",
      "Processing Record 41 of Set 11 | sobolevo\n",
      "Processing Record 42 of Set 11 | egvekinot\n",
      "Processing Record 43 of Set 11 | colares\n",
      "Processing Record 44 of Set 11 | simpang\n",
      "Processing Record 45 of Set 11 | tagab\n",
      "Processing Record 46 of Set 11 | northam\n",
      "Processing Record 47 of Set 11 | dingle\n",
      "Processing Record 48 of Set 11 | owando\n",
      "Processing Record 49 of Set 11 | vaitupu\n",
      "City not found. Skipping...\n",
      "Processing Record 1 of Set 12 | tsiroanomandidy\n",
      "Processing Record 2 of Set 12 | pathein\n",
      "Processing Record 3 of Set 12 | westlock\n",
      "Processing Record 4 of Set 12 | luanda\n",
      "Processing Record 5 of Set 12 | carbonear\n",
      "Processing Record 6 of Set 12 | kinanah\n",
      "City not found. Skipping...\n",
      "Processing Record 7 of Set 12 | soe\n",
      "Processing Record 8 of Set 12 | krasnoselkup\n",
      "Processing Record 9 of Set 12 | jibuti\n",
      "Processing Record 10 of Set 12 | nalut\n",
      "Processing Record 11 of Set 12 | todos santos\n",
      "Processing Record 12 of Set 12 | eirunepe\n",
      "Processing Record 13 of Set 12 | la pintada\n",
      "Processing Record 14 of Set 12 | atasu\n",
      "Processing Record 15 of Set 12 | puerto colombia\n",
      "Processing Record 16 of Set 12 | rach gia\n",
      "Processing Record 17 of Set 12 | salani\n",
      "Processing Record 18 of Set 12 | gazanjyk\n",
      "Processing Record 19 of Set 12 | manakara\n",
      "Processing Record 20 of Set 12 | makakilo city\n",
      "Processing Record 21 of Set 12 | makushino\n"
     ]
    },
    {
     "name": "stdout",
     "output_type": "stream",
     "text": [
      "Processing Record 22 of Set 12 | aksarka\n",
      "Processing Record 23 of Set 12 | mackay\n",
      "Processing Record 24 of Set 12 | katubao\n",
      "Processing Record 25 of Set 12 | rawannawi\n",
      "City not found. Skipping...\n",
      "Processing Record 26 of Set 12 | vilhena\n",
      "Processing Record 27 of Set 12 | yenagoa\n",
      "Processing Record 28 of Set 12 | chistogorskiy\n",
      "Processing Record 29 of Set 12 | nuevo progreso\n",
      "Processing Record 30 of Set 12 | yeppoon\n",
      "Processing Record 31 of Set 12 | wonthaggi\n",
      "Processing Record 32 of Set 12 | lazarev\n",
      "Processing Record 33 of Set 12 | bulaevo\n",
      "Processing Record 34 of Set 12 | ada\n",
      "Processing Record 35 of Set 12 | lodwar\n",
      "Processing Record 36 of Set 12 | safwah\n",
      "City not found. Skipping...\n",
      "Processing Record 37 of Set 12 | conceicao do araguaia\n",
      "Processing Record 38 of Set 12 | orlik\n",
      "Processing Record 39 of Set 12 | terney\n",
      "Processing Record 40 of Set 12 | copiapo\n",
      "Processing Record 41 of Set 12 | angoram\n",
      "Processing Record 42 of Set 12 | vestmanna\n",
      "Processing Record 43 of Set 12 | ljungby\n",
      "Processing Record 44 of Set 12 | la ronge\n",
      "Processing Record 45 of Set 12 | serro\n",
      "Processing Record 46 of Set 12 | korla\n",
      "Processing Record 47 of Set 12 | kiama\n",
      "Processing Record 48 of Set 12 | kushima\n",
      "Processing Record 49 of Set 12 | fevralsk\n",
      "City not found. Skipping...\n",
      "Processing Record 1 of Set 13 | namibe\n",
      "Processing Record 2 of Set 13 | darlowo\n",
      "Processing Record 3 of Set 13 | barth\n",
      "Processing Record 4 of Set 13 | san quintin\n",
      "Processing Record 5 of Set 13 | malyye derbety\n",
      "Processing Record 6 of Set 13 | abay\n",
      "Processing Record 7 of Set 13 | itarema\n",
      "Processing Record 8 of Set 13 | san angelo\n",
      "Processing Record 9 of Set 13 | santa cruz cabralia\n",
      "Processing Record 10 of Set 13 | requena\n",
      "Processing Record 11 of Set 13 | ulagan\n",
      "Processing Record 12 of Set 13 | khash\n",
      "Processing Record 13 of Set 13 | sabha\n",
      "Processing Record 14 of Set 13 | phan rang\n",
      "City not found. Skipping...\n",
      "Processing Record 15 of Set 13 | labytnangi\n",
      "Processing Record 16 of Set 13 | tabou\n",
      "Processing Record 17 of Set 13 | ucluelet\n",
      "Processing Record 18 of Set 13 | wangaratta\n",
      "Processing Record 19 of Set 13 | xining\n",
      "Processing Record 20 of Set 13 | villarrica\n",
      "Processing Record 21 of Set 13 | maghama\n",
      "City not found. Skipping...\n",
      "Processing Record 22 of Set 13 | zaltan\n",
      "Processing Record 23 of Set 13 | bondo\n",
      "Processing Record 24 of Set 13 | broken hill\n",
      "Processing Record 25 of Set 13 | walvis bay\n",
      "Processing Record 26 of Set 13 | general roca\n",
      "Processing Record 27 of Set 13 | kharp\n",
      "Processing Record 28 of Set 13 | akhtubinsk\n",
      "Processing Record 29 of Set 13 | san luis\n"
     ]
    },
    {
     "data": {
      "text/plain": [
       "562"
      ]
     },
     "execution_count": 52,
     "metadata": {},
     "output_type": "execute_result"
    }
   ],
   "source": [
    "# New lists for data\n",
    "city_id = []\n",
    "city_name = []\n",
    "latitude = []\n",
    "longitude = []\n",
    "max_temp = []\n",
    "humidity = []\n",
    "cloudiness = []\n",
    "wind_spd = []\n",
    "country = []\n",
    "date_time = []\n",
    "\n",
    "# loop through the list of cities and make API calls \n",
    "\n",
    "# Counter for API calls\n",
    "counter_city = 1\n",
    "counter_set = 1\n",
    "\n",
    "print(\"Beginning Data Retrieval\")\n",
    "print(\"-----------------------------\")\n",
    "\n",
    "#loop through each city\n",
    "for city in cities:\n",
    "    query = query_url + city\n",
    "    response = requests.get(query)\n",
    "    city_data = response.json()\n",
    "    print(f\"Processing Record {counter_city} of Set {counter_set} | {city}\")\n",
    "    #     try to grab the city info and city weather\n",
    "    try:\n",
    "        city_id_response = city_data['id']\n",
    "        city_name_response = city_data['name']\n",
    "        latitude_response = city_data['coord']['lat']\n",
    "        longitude_response = city_data['coord']['lon']\n",
    "        temp_response = city_data['main']['temp_max']\n",
    "        humidity_response = city_data['main']['humidity']\n",
    "        cloudiness_response = city_data['clouds']['all']\n",
    "        wind_spd_response = city_data['wind']['speed']\n",
    "        country_response = city_data['sys']['country']\n",
    "        date_response = city_data['dt']\n",
    "        city_id.append(city_id_response)\n",
    "        city_name.append(city_name_response)        \n",
    "        latitude.append(latitude_response)\n",
    "        longitude.append(longitude_response)\n",
    "        max_temp.append(temp_response)\n",
    "        humidity.append(humidity_response)\n",
    "        cloudiness.append(cloudiness_response)\n",
    "        wind_spd.append(wind_spd_response)\n",
    "        country.append(country_response)\n",
    "        date_time.append(date_response)\n",
    "\n",
    "    \n",
    "    except KeyError:\n",
    "        print(\"City not found. Skipping...\")\n",
    "    \n",
    "    if counter_city < 49:\n",
    "        counter_city +=1\n",
    "    else: \n",
    "        counter_city = 1\n",
    "        counter_set +=1\n",
    "        \n",
    "len(city_id)\n"
   ]
  },
  {
   "cell_type": "markdown",
   "metadata": {},
   "source": [
    "### Convert Raw Data to DataFrame\n",
    "* Export the city data into a .csv.\n",
    "* Display the DataFrame"
   ]
  },
  {
   "cell_type": "code",
   "execution_count": 74,
   "metadata": {},
   "outputs": [
    {
     "data": {
      "text/plain": [
       "City          562\n",
       "Cloudiness    562\n",
       "Country       562\n",
       "Date          562\n",
       "Humidity      562\n",
       "Lat           562\n",
       "Lng           562\n",
       "Max Temp      562\n",
       "Wind Speed    562\n",
       "dtype: int64"
      ]
     },
     "execution_count": 74,
     "metadata": {},
     "output_type": "execute_result"
    }
   ],
   "source": [
    "# Create the data frame\n",
    "city_df = pd.DataFrame({\n",
    "    \"City\": city_name,\n",
    "    \"Cloudiness\": cloudiness,\n",
    "    \"Country\": country,\n",
    "    \"Date\": date_time,\n",
    "    \"Humidity\": humidity,\n",
    "    \"Lat\": latitude,\n",
    "    \"Lng\": longitude,\n",
    "    \"Max Temp\": max_temp,\n",
    "    \"Wind Speed\": wind_spd,\n",
    "})\n",
    "\n",
    "\n",
    "city_df.count()"
   ]
  },
  {
   "cell_type": "code",
   "execution_count": 75,
   "metadata": {},
   "outputs": [
    {
     "data": {
      "text/html": [
       "<div>\n",
       "<style scoped>\n",
       "    .dataframe tbody tr th:only-of-type {\n",
       "        vertical-align: middle;\n",
       "    }\n",
       "\n",
       "    .dataframe tbody tr th {\n",
       "        vertical-align: top;\n",
       "    }\n",
       "\n",
       "    .dataframe thead th {\n",
       "        text-align: right;\n",
       "    }\n",
       "</style>\n",
       "<table border=\"1\" class=\"dataframe\">\n",
       "  <thead>\n",
       "    <tr style=\"text-align: right;\">\n",
       "      <th></th>\n",
       "      <th>City</th>\n",
       "      <th>Cloudiness</th>\n",
       "      <th>Country</th>\n",
       "      <th>Date</th>\n",
       "      <th>Humidity</th>\n",
       "      <th>Lat</th>\n",
       "      <th>Lng</th>\n",
       "      <th>Max Temp</th>\n",
       "      <th>Wind Speed</th>\n",
       "    </tr>\n",
       "  </thead>\n",
       "  <tbody>\n",
       "    <tr>\n",
       "      <th>0</th>\n",
       "      <td>Rikitea</td>\n",
       "      <td>21</td>\n",
       "      <td>PF</td>\n",
       "      <td>1590384545</td>\n",
       "      <td>72</td>\n",
       "      <td>-23.12</td>\n",
       "      <td>-134.97</td>\n",
       "      <td>72.09</td>\n",
       "      <td>25.26</td>\n",
       "    </tr>\n",
       "    <tr>\n",
       "      <th>1</th>\n",
       "      <td>Tuktoyaktuk</td>\n",
       "      <td>20</td>\n",
       "      <td>CA</td>\n",
       "      <td>1590384545</td>\n",
       "      <td>74</td>\n",
       "      <td>69.45</td>\n",
       "      <td>-133.04</td>\n",
       "      <td>37.40</td>\n",
       "      <td>14.99</td>\n",
       "    </tr>\n",
       "    <tr>\n",
       "      <th>2</th>\n",
       "      <td>Coro</td>\n",
       "      <td>70</td>\n",
       "      <td>VE</td>\n",
       "      <td>1590384545</td>\n",
       "      <td>81</td>\n",
       "      <td>11.40</td>\n",
       "      <td>-69.67</td>\n",
       "      <td>77.92</td>\n",
       "      <td>15.05</td>\n",
       "    </tr>\n",
       "    <tr>\n",
       "      <th>3</th>\n",
       "      <td>Xapuri</td>\n",
       "      <td>43</td>\n",
       "      <td>BR</td>\n",
       "      <td>1590384545</td>\n",
       "      <td>75</td>\n",
       "      <td>-10.65</td>\n",
       "      <td>-68.50</td>\n",
       "      <td>60.30</td>\n",
       "      <td>2.42</td>\n",
       "    </tr>\n",
       "    <tr>\n",
       "      <th>4</th>\n",
       "      <td>Busselton</td>\n",
       "      <td>95</td>\n",
       "      <td>AU</td>\n",
       "      <td>1590384292</td>\n",
       "      <td>83</td>\n",
       "      <td>-33.65</td>\n",
       "      <td>115.33</td>\n",
       "      <td>53.01</td>\n",
       "      <td>29.46</td>\n",
       "    </tr>\n",
       "  </tbody>\n",
       "</table>\n",
       "</div>"
      ],
      "text/plain": [
       "          City  Cloudiness Country        Date  Humidity    Lat     Lng  \\\n",
       "0      Rikitea          21      PF  1590384545        72 -23.12 -134.97   \n",
       "1  Tuktoyaktuk          20      CA  1590384545        74  69.45 -133.04   \n",
       "2         Coro          70      VE  1590384545        81  11.40  -69.67   \n",
       "3       Xapuri          43      BR  1590384545        75 -10.65  -68.50   \n",
       "4    Busselton          95      AU  1590384292        83 -33.65  115.33   \n",
       "\n",
       "   Max Temp  Wind Speed  \n",
       "0     72.09       25.26  \n",
       "1     37.40       14.99  \n",
       "2     77.92       15.05  \n",
       "3     60.30        2.42  \n",
       "4     53.01       29.46  "
      ]
     },
     "execution_count": 75,
     "metadata": {},
     "output_type": "execute_result"
    }
   ],
   "source": [
    "city_df.head()"
   ]
  },
  {
   "cell_type": "code",
   "execution_count": 76,
   "metadata": {},
   "outputs": [],
   "source": [
    "# Export to csv\n",
    "city_df.to_csv(\"output/CityWeather.csv\", index=False, header=True)"
   ]
  },
  {
   "cell_type": "markdown",
   "metadata": {},
   "source": [
    "### Plotting the Data\n",
    "* Use proper labeling of the plots using plot titles (including date of analysis) and axes labels.\n",
    "* Save the plotted figures as .pngs."
   ]
  },
  {
   "cell_type": "markdown",
   "metadata": {},
   "source": [
    "#### Latitude vs. Temperature Plot"
   ]
  },
  {
   "cell_type": "code",
   "execution_count": 77,
   "metadata": {},
   "outputs": [
    {
     "data": {
      "image/png": "[encoded data removed]",
      "text/plain": [
       "<Figure size 432x288 with 1 Axes>"
      ]
     },
     "metadata": {
      "needs_background": "light"
     },
     "output_type": "display_data"
    }
   ],
   "source": [
    "plt.scatter(latitude, max_temp, marker=\"o\", facecolors=\"blue\", edgecolors=\"black\")\n",
    "plt.title(\"City Latitude vs. Max Temperature (05/2020)\")\n",
    "plt.xlabel(\"Latitude\")\n",
    "plt.ylabel(\"Max Temperature (F)\")\n",
    "\n",
    "plt.savefig(\"output/CityLatVsTemp.png\")\n",
    "plt.show()\n"
   ]
  },
  {
   "cell_type": "code",
   "execution_count": 78,
   "metadata": {},
   "outputs": [],
   "source": [
    "# Scatter plot employed to illustrate the relationship between latitude location and the occurance of \n",
    "# high temperatures for a day in the month of May. The plot indicates that max temperatures are likely to increase\n",
    "# as the latitude of a given city draws nearer to the equator. "
   ]
  },
  {
   "cell_type": "markdown",
   "metadata": {},
   "source": [
    "#### Latitude vs. Humidity Plot"
   ]
  },
  {
   "cell_type": "code",
   "execution_count": 79,
   "metadata": {},
   "outputs": [
    {
     "data": {
      "image/png": "[encoded data removed]",
      "text/plain": [
       "<Figure size 432x288 with 1 Axes>"
      ]
     },
     "metadata": {
      "needs_background": "light"
     },
     "output_type": "display_data"
    }
   ],
   "source": [
    "plt.scatter(latitude, humidity, marker=\"o\", facecolors=\"blue\", edgecolors=\"black\")\n",
    "plt.title(\"City Latitude vs. Humidity (05/2020)\")\n",
    "plt.xlabel(\"Latitude\")\n",
    "plt.ylabel(\"Humidity (%)\")\n",
    "\n",
    "plt.savefig(\"output/CityLatVsHumidity.png\")\n",
    "plt.show()\n"
   ]
  },
  {
   "cell_type": "code",
   "execution_count": 80,
   "metadata": {},
   "outputs": [],
   "source": [
    "# Scatter plot employed to illustrate the relationship between latitude location and the percentage of humidity\n",
    "# for a day in the month of May. For this day in May, there is some indication that the lowest occurances of \n",
    "# humidity are present in the cities within 40° north of the Equator. "
   ]
  },
  {
   "cell_type": "markdown",
   "metadata": {},
   "source": [
    "#### Latitude vs. Cloudiness Plot"
   ]
  },
  {
   "cell_type": "code",
   "execution_count": 81,
   "metadata": {},
   "outputs": [
    {
     "data": {
      "image/png": "[encoded data removed]",
      "text/plain": [
       "<Figure size 432x288 with 1 Axes>"
      ]
     },
     "metadata": {
      "needs_background": "light"
     },
     "output_type": "display_data"
    }
   ],
   "source": [
    "plt.scatter(latitude, cloudiness, marker=\"o\", facecolors=\"blue\", edgecolors=\"black\")\n",
    "plt.title(\"City Latitude vs. Cloudiness (05/2020)\")\n",
    "plt.xlabel(\"Latitude\")\n",
    "plt.ylabel(\"Cloudiness (%)\")\n",
    "\n",
    "plt.savefig(\"output/CityLatVsCloud.png\")\n",
    "plt.show()\n"
   ]
  },
  {
   "cell_type": "code",
   "execution_count": 82,
   "metadata": {},
   "outputs": [],
   "source": [
    "# Scatter plot employed to illustrate the relationship between latitude location and the cloudiness\n",
    "# for a day in the month of May. For this day in May, there does not appear to be a clear influence on the \n",
    "# latitude location of the city data set and severity of cloud cover. "
   ]
  },
  {
   "cell_type": "markdown",
   "metadata": {},
   "source": [
    "#### Latitude vs. Wind Speed Plot"
   ]
  },
  {
   "cell_type": "code",
   "execution_count": 83,
   "metadata": {},
   "outputs": [
    {
     "data": {
      "image/png": "[encoded data removed]",
      "text/plain": [
       "<Figure size 432x288 with 1 Axes>"
      ]
     },
     "metadata": {
      "needs_background": "light"
     },
     "output_type": "display_data"
    }
   ],
   "source": [
    "plt.scatter(latitude, wind_spd, marker=\"o\", facecolors=\"blue\", edgecolors=\"black\")\n",
    "plt.title(\"City Latitude vs. Wind Speed (05/2020)\")\n",
    "plt.xlabel(\"Latitude\")\n",
    "plt.ylabel(\"Wind Speed (mph)\")\n",
    "\n",
    "plt.savefig(\"output/CityLatVsWind.png\")\n",
    "plt.show()\n"
   ]
  },
  {
   "cell_type": "code",
   "execution_count": 84,
   "metadata": {},
   "outputs": [],
   "source": [
    "# Scatter plot employed to illustrate the relationship between latitude location and the current wind speed\n",
    "# for a day in the month of May. For this day in May, while there does appear to be higher winds for a small\n",
    "# selection of cities between -30° and -40°, it does not appear to be a significant number. "
   ]
  },
  {
   "cell_type": "markdown",
   "metadata": {},
   "source": [
    "## Linear Regression"
   ]
  },
  {
   "cell_type": "code",
   "execution_count": 85,
   "metadata": {},
   "outputs": [],
   "source": [
    "# Create Northern and Southern Hemisphere DataFrames\n",
    "\n",
    "north_df = city_df.loc[(city_df[\"Lat\"] >= 0)] \n",
    "south_df = city_df.loc[(city_df[\"Lat\"] < 0)] "
   ]
  },
  {
   "cell_type": "markdown",
   "metadata": {},
   "source": [
    "####  Northern Hemisphere - Max Temp vs. Latitude Linear Regression"
   ]
  },
  {
   "cell_type": "code",
   "execution_count": 86,
   "metadata": {},
   "outputs": [
    {
     "data": {
      "image/png": "[encoded data removed]",
      "text/plain": [
       "<Figure size 432x288 with 1 Axes>"
      ]
     },
     "metadata": {
      "needs_background": "light"
     },
     "output_type": "display_data"
    },
    {
     "name": "stdout",
     "output_type": "stream",
     "text": [
      "The r-squared value is -0.7697012120150095\n"
     ]
    }
   ],
   "source": [
    "# Add the linear regression equation and line to plot \n",
    "x_values = north_df['Lat']\n",
    "y_values = north_df['Max Temp']\n",
    "\n",
    "(slope, intercept, rvalue, pvalue, stderr) = linregress(x_values, y_values)\n",
    "regress_values = x_values * slope +intercept\n",
    "line_eq = \"y = \" + str(round(slope,2)) + \"x + \" + str(round(intercept,2))\n",
    "\n",
    "plt.scatter(x_values,y_values)\n",
    "plt.plot(x_values,regress_values,\"r-\")\n",
    "\n",
    "plt.annotate(line_eq,(6,10),fontsize=15,color=\"red\")\n",
    "\n",
    "plt.xlabel(\"Latitude\")\n",
    "plt.ylabel(\"Max Temperature (F)\")\n",
    "plt.show()\n",
    "\n",
    "print(f'The r-squared value is {rvalue}')\n"
   ]
  },
  {
   "cell_type": "markdown",
   "metadata": {},
   "source": [
    "####  Southern Hemisphere - Max Temp vs. Latitude Linear Regression"
   ]
  },
  {
   "cell_type": "code",
   "execution_count": 87,
   "metadata": {},
   "outputs": [
    {
     "data": {
      "image/png": "[encoded data removed]",
      "text/plain": [
       "<Figure size 432x288 with 1 Axes>"
      ]
     },
     "metadata": {
      "needs_background": "light"
     },
     "output_type": "display_data"
    },
    {
     "name": "stdout",
     "output_type": "stream",
     "text": [
      "The r-squared value is 0.7405148228587642\n"
     ]
    }
   ],
   "source": [
    "x_values = south_df['Lat']\n",
    "y_values = south_df['Max Temp']\n",
    "\n",
    "(slope, intercept, rvalue, pvalue, stderr) = linregress(x_values, y_values)\n",
    "regress_values = x_values * slope +intercept\n",
    "line_eq = \"y = \" + str(round(slope,2)) + \"x + \" + str(round(intercept,2))\n",
    "\n",
    "plt.scatter(x_values,y_values)\n",
    "plt.plot(x_values,regress_values,\"r-\")\n",
    "\n",
    "plt.annotate(line_eq,(6,10),fontsize=15,color=\"red\")\n",
    "\n",
    "plt.xlabel(\"Latitude\")\n",
    "plt.ylabel(\"Max Temperature (F)\")\n",
    "plt.show()\n",
    "\n",
    "print(f'The r-squared value is {rvalue}')"
   ]
  },
  {
   "cell_type": "markdown",
   "metadata": {},
   "source": [
    "####  Northern Hemisphere - Humidity (%) vs. Latitude Linear Regression"
   ]
  },
  {
   "cell_type": "code",
   "execution_count": 88,
   "metadata": {},
   "outputs": [
    {
     "data": {
      "image/png": "[encoded data removed]",
      "text/plain": [
       "<Figure size 432x288 with 1 Axes>"
      ]
     },
     "metadata": {
      "needs_background": "light"
     },
     "output_type": "display_data"
    },
    {
     "name": "stdout",
     "output_type": "stream",
     "text": [
      "The r-squared value is 0.06055650479624936\n"
     ]
    }
   ],
   "source": [
    "x_values = north_df['Lat']\n",
    "y_values = north_df['Humidity']\n",
    "\n",
    "(slope, intercept, rvalue, pvalue, stderr) = linregress(x_values, y_values)\n",
    "regress_values = x_values * slope +intercept\n",
    "line_eq = \"y = \" + str(round(slope,2)) + \"x + \" + str(round(intercept,2))\n",
    "\n",
    "plt.scatter(x_values,y_values)\n",
    "plt.plot(x_values,regress_values,\"r-\")\n",
    "\n",
    "plt.annotate(line_eq,(6,10),fontsize=15,color=\"red\")\n",
    "\n",
    "plt.xlabel(\"Latitude\")\n",
    "plt.ylabel(\"Max Temperature (F)\")\n",
    "plt.show()\n",
    "\n",
    "print(f'The r-squared value is {rvalue}')"
   ]
  },
  {
   "cell_type": "markdown",
   "metadata": {},
   "source": [
    "####  Southern Hemisphere - Humidity (%) vs. Latitude Linear Regression"
   ]
  },
  {
   "cell_type": "code",
   "execution_count": 89,
   "metadata": {},
   "outputs": [
    {
     "data": {
      "image/png": "[encoded data removed]",
      "text/plain": [
       "<Figure size 432x288 with 1 Axes>"
      ]
     },
     "metadata": {
      "needs_background": "light"
     },
     "output_type": "display_data"
    },
    {
     "name": "stdout",
     "output_type": "stream",
     "text": [
      "The r-squared value is 0.13941141401374743\n"
     ]
    }
   ],
   "source": [
    "x_values = south_df['Lat']\n",
    "y_values = south_df['Humidity']\n",
    "\n",
    "(slope, intercept, rvalue, pvalue, stderr) = linregress(x_values, y_values)\n",
    "regress_values = x_values * slope +intercept\n",
    "line_eq = \"y = \" + str(round(slope,2)) + \"x + \" + str(round(intercept,2))\n",
    "\n",
    "plt.scatter(x_values,y_values)\n",
    "plt.plot(x_values,regress_values,\"r-\")\n",
    "\n",
    "plt.annotate(line_eq,(6,10),fontsize=15,color=\"red\")\n",
    "\n",
    "plt.xlabel(\"Latitude\")\n",
    "plt.ylabel(\"Max Temperature (F)\")\n",
    "plt.show()\n",
    "\n",
    "print(f'The r-squared value is {rvalue}')"
   ]
  },
  {
   "cell_type": "markdown",
   "metadata": {},
   "source": [
    "####  Northern Hemisphere - Cloudiness (%) vs. Latitude Linear Regression"
   ]
  },
  {
   "cell_type": "code",
   "execution_count": 90,
   "metadata": {},
   "outputs": [
    {
     "data": {
      "image/png": "[encoded data removed]",
      "text/plain": [
       "<Figure size 432x288 with 1 Axes>"
      ]
     },
     "metadata": {
      "needs_background": "light"
     },
     "output_type": "display_data"
    },
    {
     "name": "stdout",
     "output_type": "stream",
     "text": [
      "The r-squared value is 0.15705931785412056\n"
     ]
    }
   ],
   "source": [
    "x_values = north_df['Lat']\n",
    "y_values = north_df['Cloudiness']\n",
    "\n",
    "(slope, intercept, rvalue, pvalue, stderr) = linregress(x_values, y_values)\n",
    "regress_values = x_values * slope +intercept\n",
    "line_eq = \"y = \" + str(round(slope,2)) + \"x + \" + str(round(intercept,2))\n",
    "\n",
    "plt.scatter(x_values,y_values)\n",
    "plt.plot(x_values,regress_values,\"r-\")\n",
    "\n",
    "plt.annotate(line_eq,(6,10),fontsize=15,color=\"red\")\n",
    "\n",
    "plt.xlabel(\"Latitude\")\n",
    "plt.ylabel(\"Max Temperature (F)\")\n",
    "plt.show()\n",
    "\n",
    "print(f'The r-squared value is {rvalue}')"
   ]
  },
  {
   "cell_type": "markdown",
   "metadata": {},
   "source": [
    "####  Southern Hemisphere - Cloudiness (%) vs. Latitude Linear Regression"
   ]
  },
  {
   "cell_type": "code",
   "execution_count": 91,
   "metadata": {},
   "outputs": [
    {
     "data": {
      "image/png": "[encoded data removed]",
      "text/plain": [
       "<Figure size 432x288 with 1 Axes>"
      ]
     },
     "metadata": {
      "needs_background": "light"
     },
     "output_type": "display_data"
    },
    {
     "name": "stdout",
     "output_type": "stream",
     "text": [
      "The r-squared value is 0.13830135208073413\n"
     ]
    }
   ],
   "source": [
    "x_values = south_df['Lat']\n",
    "y_values = south_df['Cloudiness']\n",
    "\n",
    "(slope, intercept, rvalue, pvalue, stderr) = linregress(x_values, y_values)\n",
    "regress_values = x_values * slope +intercept\n",
    "line_eq = \"y = \" + str(round(slope,2)) + \"x + \" + str(round(intercept,2))\n",
    "\n",
    "plt.scatter(x_values,y_values)\n",
    "plt.plot(x_values,regress_values,\"r-\")\n",
    "\n",
    "plt.annotate(line_eq,(6,10),fontsize=15,color=\"red\")\n",
    "\n",
    "plt.xlabel(\"Latitude\")\n",
    "plt.ylabel(\"Max Temperature (F)\")\n",
    "plt.show()\n",
    "\n",
    "print(f'The r-squared value is {rvalue}')"
   ]
  },
  {
   "cell_type": "markdown",
   "metadata": {},
   "source": [
    "####  Northern Hemisphere - Wind Speed (mph) vs. Latitude Linear Regression"
   ]
  },
  {
   "cell_type": "code",
   "execution_count": 92,
   "metadata": {},
   "outputs": [
    {
     "data": {
      "image/png": "[encoded data removed]",
      "text/plain": [
       "<Figure size 432x288 with 1 Axes>"
      ]
     },
     "metadata": {
      "needs_background": "light"
     },
     "output_type": "display_data"
    },
    {
     "name": "stdout",
     "output_type": "stream",
     "text": [
      "The r-squared value is 0.054164854047806126\n"
     ]
    }
   ],
   "source": [
    "x_values = north_df['Lat']\n",
    "y_values = north_df['Wind Speed']\n",
    "\n",
    "(slope, intercept, rvalue, pvalue, stderr) = linregress(x_values, y_values)\n",
    "regress_values = x_values * slope +intercept\n",
    "line_eq = \"y = \" + str(round(slope,2)) + \"x + \" + str(round(intercept,2))\n",
    "\n",
    "plt.scatter(x_values,y_values)\n",
    "plt.plot(x_values,regress_values,\"r-\")\n",
    "\n",
    "plt.annotate(line_eq,(6,10),fontsize=15,color=\"red\")\n",
    "\n",
    "plt.xlabel(\"Latitude\")\n",
    "plt.ylabel(\"Max Temperature (F)\")\n",
    "plt.show()\n",
    "\n",
    "print(f'The r-squared value is {rvalue}')"
   ]
  },
  {
   "cell_type": "markdown",
   "metadata": {},
   "source": [
    "####  Southern Hemisphere - Wind Speed (mph) vs. Latitude Linear Regression"
   ]
  },
  {
   "cell_type": "code",
   "execution_count": 93,
   "metadata": {},
   "outputs": [
    {
     "data": {
      "image/png": "[encoded data removed]",
      "text/plain": [
       "<Figure size 432x288 with 1 Axes>"
      ]
     },
     "metadata": {
      "needs_background": "light"
     },
     "output_type": "display_data"
    },
    {
     "name": "stdout",
     "output_type": "stream",
     "text": [
      "The r-squared value is -0.3079741869840553\n"
     ]
    }
   ],
   "source": [
    "x_values = south_df['Lat']\n",
    "y_values = south_df['Wind Speed']\n",
    "\n",
    "(slope, intercept, rvalue, pvalue, stderr) = linregress(x_values, y_values)\n",
    "regress_values = x_values * slope +intercept\n",
    "line_eq = \"y = \" + str(round(slope,2)) + \"x + \" + str(round(intercept,2))\n",
    "\n",
    "plt.scatter(x_values,y_values)\n",
    "plt.plot(x_values,regress_values,\"r-\")\n",
    "\n",
    "plt.annotate(line_eq,(6,10),fontsize=15,color=\"red\")\n",
    "\n",
    "plt.xlabel(\"Latitude\")\n",
    "plt.ylabel(\"Max Temperature (F)\")\n",
    "plt.show()\n",
    "\n",
    "print(f'The r-squared value is {rvalue}')"
   ]
  }
 ],
 "metadata": {
  "anaconda-cloud": {},
  "kernel_info": {
   "name": "python3"
  },
  "kernelspec": {
   "display_name": "Python [conda env:PythonData]",
   "language": "python",
   "name": "conda-env-PythonData-py"
  },
  "language_info": {
   "codemirror_mode": {
    "name": "ipython",
    "version": 3
   },
   "file_extension": ".py",
   "mimetype": "text/x-python",
   "name": "python",
   "nbconvert_exporter": "python",
   "pygments_lexer": "ipython3",
   "version": "3.6.9"
  },
  "latex_envs": {
   "LaTeX_envs_menu_present": true,
   "autoclose": false,
   "autocomplete": true,
   "bibliofile": "biblio.bib",
   "cite_by": "apalike",
   "current_citInitial": 1,
   "eqLabelWithNumbers": true,
   "eqNumInitial": 1,
   "hotkeys": {
    "equation": "Ctrl-E",
    "itemize": "Ctrl-I"
   },
   "labels_anchors": false,
   "latex_user_defs": false,
   "report_style_numbering": false,
   "user_envs_cfg": false
  },
  "nteract": {
   "version": "0.12.3"
  }
 },
 "nbformat": 4,
 "nbformat_minor": 2
}
